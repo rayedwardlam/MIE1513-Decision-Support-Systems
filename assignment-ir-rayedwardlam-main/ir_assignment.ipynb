{
 "cells": [
  {
   "cell_type": "markdown",
   "metadata": {
    "id": "bdkwQ36739Wi"
   },
   "source": [
    "# Assignment: Information Retrieval (IR)"
   ]
  },
  {
   "cell_type": "markdown",
   "metadata": {
    "id": "R-gYMXKq39Wj"
   },
   "source": [
    "## Preparations\n",
    "* Put all your imports, and path constants in the next cells"
   ]
  },
  {
   "cell_type": "code",
   "execution_count": 1,
   "metadata": {
    "colab": {
     "base_uri": "https://localhost:8080/",
     "height": 400
    },
    "id": "QSChF98s8ErB",
    "outputId": "2a9ab727-fd8a-4d31-dd0d-5ed571f9a758"
   },
   "outputs": [
    {
     "name": "stdout",
     "output_type": "stream",
     "text": [
      "Collecting whoosh\n",
      "  Downloading Whoosh-2.7.4-py2.py3-none-any.whl (468 kB)\n",
      "Installing collected packages: whoosh\n",
      "Successfully installed whoosh-2.7.4\n",
      "Collecting pytrec_eval\n",
      "  Downloading pytrec_eval-0.5.tar.gz (15 kB)\n",
      "Building wheels for collected packages: pytrec-eval\n",
      "  Building wheel for pytrec-eval (setup.py): started\n",
      "  Building wheel for pytrec-eval (setup.py): finished with status 'error'\n",
      "  Running setup.py clean for pytrec-eval\n",
      "Failed to build pytrec-eval\n",
      "Installing collected packages: pytrec-eval\n",
      "    Running setup.py install for pytrec-eval: started\n",
      "    Running setup.py install for pytrec-eval: finished with status 'error'\n"
     ]
    },
    {
     "name": "stderr",
     "output_type": "stream",
     "text": [
      "  ERROR: Command errored out with exit status 1:\n",
      "   command: 'C:\\Users\\raymo\\anaconda3\\python.exe' -u -c 'import sys, setuptools, tokenize; sys.argv[0] = '\"'\"'C:\\\\Users\\\\raymo\\\\AppData\\\\Local\\\\Temp\\\\pip-install-lglcnsab\\\\pytrec-eval_72c6acae668d4faba9d99bcbb5aca151\\\\setup.py'\"'\"'; __file__='\"'\"'C:\\\\Users\\\\raymo\\\\AppData\\\\Local\\\\Temp\\\\pip-install-lglcnsab\\\\pytrec-eval_72c6acae668d4faba9d99bcbb5aca151\\\\setup.py'\"'\"';f=getattr(tokenize, '\"'\"'open'\"'\"', open)(__file__);code=f.read().replace('\"'\"'\\r\\n'\"'\"', '\"'\"'\\n'\"'\"');f.close();exec(compile(code, __file__, '\"'\"'exec'\"'\"'))' bdist_wheel -d 'C:\\Users\\raymo\\AppData\\Local\\Temp\\pip-wheel-evjs9yzj'\n",
      "       cwd: C:\\Users\\raymo\\AppData\\Local\\Temp\\pip-install-lglcnsab\\pytrec-eval_72c6acae668d4faba9d99bcbb5aca151\\\n",
      "  Complete output (11 lines):\n",
      "  Fetching trec_eval from https://github.com/usnistgov/trec_eval/archive/v9.0.8.tar.gz.\n",
      "  running bdist_wheel\n",
      "  running build\n",
      "  running build_py\n",
      "  creating build\n",
      "  creating build\\lib.win-amd64-3.8\n",
      "  creating build\\lib.win-amd64-3.8\\pytrec_eval\n",
      "  copying py\\__init__.py -> build\\lib.win-amd64-3.8\\pytrec_eval\n",
      "  running build_ext\n",
      "  building 'pytrec_eval_ext' extension\n",
      "  error: Microsoft Visual C++ 14.0 or greater is required. Get it with \"Microsoft C++ Build Tools\": https://visualstudio.microsoft.com/visual-cpp-build-tools/\n",
      "  ----------------------------------------\n",
      "  ERROR: Failed building wheel for pytrec-eval\n",
      "    ERROR: Command errored out with exit status 1:\n",
      "     command: 'C:\\Users\\raymo\\anaconda3\\python.exe' -u -c 'import sys, setuptools, tokenize; sys.argv[0] = '\"'\"'C:\\\\Users\\\\raymo\\\\AppData\\\\Local\\\\Temp\\\\pip-install-lglcnsab\\\\pytrec-eval_72c6acae668d4faba9d99bcbb5aca151\\\\setup.py'\"'\"'; __file__='\"'\"'C:\\\\Users\\\\raymo\\\\AppData\\\\Local\\\\Temp\\\\pip-install-lglcnsab\\\\pytrec-eval_72c6acae668d4faba9d99bcbb5aca151\\\\setup.py'\"'\"';f=getattr(tokenize, '\"'\"'open'\"'\"', open)(__file__);code=f.read().replace('\"'\"'\\r\\n'\"'\"', '\"'\"'\\n'\"'\"');f.close();exec(compile(code, __file__, '\"'\"'exec'\"'\"'))' install --record 'C:\\Users\\raymo\\AppData\\Local\\Temp\\pip-record-iwoiuens\\install-record.txt' --single-version-externally-managed --compile --install-headers 'C:\\Users\\raymo\\anaconda3\\Include\\pytrec-eval'\n",
      "         cwd: C:\\Users\\raymo\\AppData\\Local\\Temp\\pip-install-lglcnsab\\pytrec-eval_72c6acae668d4faba9d99bcbb5aca151\\\n",
      "    Complete output (11 lines):\n",
      "    Fetching trec_eval from https://github.com/usnistgov/trec_eval/archive/v9.0.8.tar.gz.\n",
      "    running install\n",
      "    running build\n",
      "    running build_py\n",
      "    creating build\n",
      "    creating build\\lib.win-amd64-3.8\n",
      "    creating build\\lib.win-amd64-3.8\\pytrec_eval\n",
      "    copying py\\__init__.py -> build\\lib.win-amd64-3.8\\pytrec_eval\n",
      "    running build_ext\n",
      "    building 'pytrec_eval_ext' extension\n",
      "    error: Microsoft Visual C++ 14.0 or greater is required. Get it with \"Microsoft C++ Build Tools\": https://visualstudio.microsoft.com/visual-cpp-build-tools/\n",
      "    ----------------------------------------\n",
      "ERROR: Command errored out with exit status 1: 'C:\\Users\\raymo\\anaconda3\\python.exe' -u -c 'import sys, setuptools, tokenize; sys.argv[0] = '\"'\"'C:\\\\Users\\\\raymo\\\\AppData\\\\Local\\\\Temp\\\\pip-install-lglcnsab\\\\pytrec-eval_72c6acae668d4faba9d99bcbb5aca151\\\\setup.py'\"'\"'; __file__='\"'\"'C:\\\\Users\\\\raymo\\\\AppData\\\\Local\\\\Temp\\\\pip-install-lglcnsab\\\\pytrec-eval_72c6acae668d4faba9d99bcbb5aca151\\\\setup.py'\"'\"';f=getattr(tokenize, '\"'\"'open'\"'\"', open)(__file__);code=f.read().replace('\"'\"'\\r\\n'\"'\"', '\"'\"'\\n'\"'\"');f.close();exec(compile(code, __file__, '\"'\"'exec'\"'\"'))' install --record 'C:\\Users\\raymo\\AppData\\Local\\Temp\\pip-record-iwoiuens\\install-record.txt' --single-version-externally-managed --compile --install-headers 'C:\\Users\\raymo\\anaconda3\\Include\\pytrec-eval' Check the logs for full command output.\n"
     ]
    },
    {
     "name": "stdout",
     "output_type": "stream",
     "text": [
      "Collecting wget\n",
      "  Downloading wget-3.2.zip (10 kB)\n",
      "Building wheels for collected packages: wget\n",
      "  Building wheel for wget (setup.py): started\n",
      "  Building wheel for wget (setup.py): finished with status 'done'\n",
      "  Created wheel for wget: filename=wget-3.2-py3-none-any.whl size=9680 sha256=5843b62b91ab9d0634f837a24f901f7dddeb9c15045a979f0135c17854ea31d7\n",
      "  Stored in directory: c:\\users\\raymo\\appdata\\local\\pip\\cache\\wheels\\bd\\a8\\c3\\3cf2c14a1837a4e04bd98631724e81f33f462d86a1d895fae0\n",
      "Successfully built wget\n",
      "Installing collected packages: wget\n",
      "Successfully installed wget-3.2\n"
     ]
    }
   ],
   "source": [
    "!pip install whoosh\n",
    "!pip install pytrec_eval\n",
    "!pip install wget"
   ]
  },
  {
   "cell_type": "code",
   "execution_count": null,
   "metadata": {
    "colab": {
     "base_uri": "https://localhost:8080/",
     "height": 34
    },
    "id": "0HIF5uBV8cRy",
    "outputId": "99b9a7b7-9157-4ec2-963e-8f3d840dd858"
   },
   "outputs": [
    {
     "data": {
      "text/plain": [
       "'government.zip'"
      ]
     },
     "execution_count": 2,
     "metadata": {},
     "output_type": "execute_result"
    }
   ],
   "source": [
    "import wget\n",
    "wget.download(\"https://github.com/MIE1513HS-2022/course-datasets/raw/main/government.zip\", \"government.zip\")"
   ]
  },
  {
   "cell_type": "code",
   "execution_count": null,
   "metadata": {
    "id": "xN-TAsbPAsRm"
   },
   "outputs": [],
   "source": [
    "!unzip government.zip"
   ]
  },
  {
   "cell_type": "code",
   "execution_count": null,
   "metadata": {
    "id": "7VNv24P839Wk"
   },
   "outputs": [],
   "source": [
    "# imports\n",
    "# Put all your imports here\n",
    "from whoosh import index, writing, qparser,scoring\n",
    "from whoosh.fields import Schema, TEXT, KEYWORD, ID, STORED\n",
    "from whoosh.analysis import *\n",
    "from whoosh.qparser import QueryParser\n",
    "import os.path\n",
    "from pathlib import Path\n",
    "import tempfile\n",
    "import subprocess\n",
    "import pytrec_eval\n",
    "import wget\n",
    "import abc\n",
    "from abc import abstractmethod\n",
    "from whoosh.analysis import Filter"
   ]
  },
  {
   "cell_type": "code",
   "execution_count": null,
   "metadata": {
    "id": "foausn0UxSId"
   },
   "outputs": [],
   "source": [
    "class IRSystem(metaclass=abc.ABCMeta):\n",
    "    \"\"\"\n",
    "    Abstract class which is inherited by other IR system\n",
    "    \"\"\"\n",
    "\n",
    "    def __init__(self, data_dir):\n",
    "        # DON'T change the following names,topic_file, qrels_file, document_dir, file_list\n",
    "        self.topic_file = os.path.join(data_dir, \"gov.topics\")\n",
    "        self.qrels_file = os.path.join(data_dir, \"gov.qrels\")\n",
    "        self.document_dir = os.path.join(data_dir, \"documents\") \n",
    "        self.file_list = [str(filePath) for filePath in Path(self.document_dir).glob(\"**/*\") if filePath.is_file()]\n",
    "\n",
    "        self.create_index()\n",
    "        self.add_files()\n",
    "        self.create_parser_searcher()\n",
    "\n",
    "    @abstractmethod\n",
    "    def create_index(self):\n",
    "        pass\n",
    "\n",
    "    @abstractmethod\n",
    "    def add_files(self):\n",
    "        pass\n",
    "\n",
    "    @abstractmethod\n",
    "    def create_parser_searcher(self):\n",
    "        pass\n",
    "\n",
    "    @abstractmethod\n",
    "    def perform_search(self, topic_phrase):\n",
    "        pass\n",
    "\n",
    "    @staticmethod\n",
    "    def post_process_score(score):\n",
    "        return score\n",
    "\n",
    "    @staticmethod\n",
    "    def print_trec_eval_result(results):\n",
    "        if not results:\n",
    "            print('empty results')\n",
    "            return\n",
    "\n",
    "        def print_line(name, scope, num):\n",
    "            print('{:25s}{:8s}{:.4f}'.format(name, scope, num))\n",
    "\n",
    "        for query_id, query_measures in results.items():\n",
    "            for measure, value in query_measures.items():\n",
    "                if measure == \"runid\":\n",
    "                    continue\n",
    "                print_line(measure, query_id, value)\n",
    "\n",
    "        for measure in query_measures.keys():\n",
    "            if measure == \"runid\":\n",
    "                continue\n",
    "            print_line(\n",
    "                measure,\n",
    "                'all',\n",
    "                pytrec_eval.compute_aggregated_measure(\n",
    "                    measure,\n",
    "                    [query_measures[measure]\n",
    "                     for query_measures in results.values()]))\n",
    "            \n",
    "    def print_rel_name(self, q_id):\n",
    "        with open(self.topic_file, \"r\") as tf:\n",
    "            topics = tf.read().splitlines()\n",
    "        for topic in topics:\n",
    "            topic_id, topic_phrase = tuple(topic.split(\" \", 1))\n",
    "            if topic_id == q_id:\n",
    "                print(\"---------------------------Topic_id and Topic_phrase----------------------------------\")\n",
    "                print(topic_id, topic_phrase)\n",
    "                 # get search result\n",
    "                topic_results = self.perform_search(topic_phrase)\n",
    "                print(\"---------------------------Return documents----------------------------------\")\n",
    "                for (docnum, result) in enumerate(topic_results):\n",
    "                    score = topic_results.score(docnum)\n",
    "                    score = self.post_process_score(score)\n",
    "                    print(\"%s Q0 %s %d %lf test\" % (topic_id, os.path.basename(result[\"file_path\"]), docnum, score))\n",
    "                print(\"---------------------------Relevant documents----------------------------------\")\n",
    "                with open(self.qrels_file, 'r') as f_qrel:\n",
    "                    qrels = f_qrel.readlines()\n",
    "                    for i in qrels:\n",
    "                        qid, _, doc, rel = i.rstrip().split(\" \")\n",
    "                        if qid == q_id and rel == \"1\":\n",
    "                            print(i.rstrip())\n",
    "\n",
    "    def py_trec_eval(self):\n",
    "        # Load topic file - a list of topics(search phrases) used for evalutation\n",
    "        with open(self.topic_file, \"r\") as tf:\n",
    "            topics = tf.read().splitlines()\n",
    "\n",
    "            # create an output file to which we'll write our results\n",
    "        temp_output_file = tempfile.mkstemp()[1]\n",
    "        with open(temp_output_file, \"w\") as outputTRECFile:\n",
    "            # for each evaluated topic:\n",
    "            # build a query and record the results in the file in TREC_EVAL format\n",
    "            for topic in topics:\n",
    "                topic_id, topic_phrase = tuple(topic.split(\" \", 1))\n",
    "                # get search result\n",
    "                topic_results = self.perform_search(topic_phrase)\n",
    "                # format the result\n",
    "                for (docnum, result) in enumerate(topic_results):\n",
    "                    score = topic_results.score(docnum)\n",
    "                    outputTRECFile.write(\n",
    "                        \"%s Q0 %s %d %lf test\\n\" % (topic_id, os.path.basename(result[\"file_path\"]), docnum, score))\n",
    "\n",
    "        with open(self.qrels_file, 'r') as f_qrel:\n",
    "            qrel = pytrec_eval.parse_qrel(f_qrel)\n",
    "\n",
    "        with open(temp_output_file, 'r') as f_run:\n",
    "            run = pytrec_eval.parse_run(f_run)\n",
    "\n",
    "        evaluator = pytrec_eval.RelevanceEvaluator(\n",
    "            qrel, pytrec_eval.supported_measures)\n",
    "\n",
    "        results = evaluator.evaluate(run)\n",
    "\n",
    "        self.print_trec_eval_result(results)\n"
   ]
  },
  {
   "cell_type": "code",
   "execution_count": null,
   "metadata": {
    "id": "d9srz2ijrLk0"
   },
   "outputs": [],
   "source": [
    "# Dont change this! Use it as-is in your code\n",
    "# This filter will run for both the index and the query\n",
    "class CustomFilter(Filter):\n",
    "    is_morph = True\n",
    "    def __init__(self, filterFunc, *args, **kwargs):\n",
    "        self.customFilter = filterFunc\n",
    "        self.args = args\n",
    "        self.kwargs = kwargs\n",
    "    def __eq__(self):\n",
    "        return (other\n",
    "                and self.__class__ is other.__class__)\n",
    "    def __call__(self, tokens):\n",
    "        for t in tokens:\n",
    "            if t.mode == 'query': # if called by query parser\n",
    "                t.text = self.customFilter(t.text, *self.args, **self.kwargs)\n",
    "                yield t\n",
    "            else: # == 'index' if called by indexer\n",
    "                t.text = self.customFilter(t.text, *self.args, **self.kwargs)\n",
    "                yield t"
   ]
  },
  {
   "cell_type": "markdown",
   "metadata": {
    "id": "m1of-Wop39Ws"
   },
   "source": [
    "## Question 1\n",
    "Provide your text answers in the following two markdown cells"
   ]
  },
  {
   "cell_type": "markdown",
   "metadata": {
    "id": "Pu_aozrL39Ws"
   },
   "source": [
    "### Q1 (a): Provide answer to Q1 (a) here [markdown cell]"
   ]
  },
  {
   "cell_type": "markdown",
   "metadata": {
    "id": "YVMD_vZn39Wt"
   },
   "source": [
    "### Q1 (b): Provide answer to Q1 (b) here [markdown cell]"
   ]
  },
  {
   "cell_type": "markdown",
   "metadata": {
    "id": "MaebEQWj39Wt"
   },
   "source": [
    "## Question 2"
   ]
  },
  {
   "cell_type": "markdown",
   "metadata": {
    "id": "OLwEGzwz39Wu"
   },
   "source": [
    "### Q2 (a): Write your code below"
   ]
  },
  {
   "cell_type": "markdown",
   "metadata": {
    "id": "2y9AKrZIoNVg"
   },
   "source": [
    "**1. The auto-grader will extract and use the following variables, DON'T change the their names:**\n",
    "\n",
    "      self.topic_file  \n",
    "      self.qrels_file  \n",
    "      self.document_dir   \n",
    "      self.file_list  \n",
    "      self.index_sys  \n",
    "      self.query_parser  \n",
    "      self.searcher   \n",
    "\n",
    "\n",
    "\n",
    "**2. DON'T change the names of the already defined funtions**  \n",
    "**3. DON'T change the py_trec_eval function**  \n",
    "**4. DON'T change the class names including CustomFilter, IRSystem, IRQ2, IRQ3, IRQ4**  \n",
    "**5. DON'T change the CustomFilter class and DON'T create any new custom filter class that is used to define Whoosh schema**"
   ]
  },
  {
   "cell_type": "code",
   "execution_count": null,
   "metadata": {
    "id": "uFpj9aErsmkQ"
   },
   "outputs": [],
   "source": [
    "class IRQ2(IRSystem):\n",
    "    def create_index(self):\n",
    "        \"\"\"\n",
    "        INPUT:\n",
    "            None\n",
    "        OUTPUT:\n",
    "            None\n",
    "        \n",
    "        NOTE: Please update self.index_sys which should have type whoosh.index.FileIndex\n",
    "        \"\"\"\n",
    "        # DON't change the name of 'index_sys'\n",
    "        self.index_sys = None\n",
    "\n",
    "    def add_files(self):\n",
    "        \"\"\"\n",
    "        INPUT:\n",
    "            None\n",
    "        OUTPUT:\n",
    "            None\n",
    "        \n",
    "        NOTE: Add buffer to self.index_sys\n",
    "        \"\"\"\n",
    "        pass\n",
    "\n",
    "    def create_parser_searcher(self):\n",
    "        \"\"\"\n",
    "        INPUT:\n",
    "            None\n",
    "        OUTPUT:\n",
    "            None\n",
    "        \n",
    "        NOTE: Please update self.query_parser and self.searcher which should have type whoosh.qparser.default.QueryParser and whoosh.searching.Searcher respectively \n",
    "        \"\"\"\n",
    "         # DON't change the names of 'query_parser' and 'searcher'\n",
    "        self.query_parser = None\n",
    "        self.searcher = None\n",
    "\n",
    "    def perform_search(self, topic_phrase):\n",
    "        \"\"\"\n",
    "        INPUT:\n",
    "            topic_phrase: string\n",
    "        OUTPUT:\n",
    "            topic_results: whoosh.searching.Results\n",
    "        \n",
    "        NOTE: Utilize self.query_parser and self.searcher to calculate the result for topic_phrase\n",
    "        \"\"\"\n",
    "        topic_results = None\n",
    "        return topic_results"
   ]
  },
  {
   "cell_type": "code",
   "execution_count": null,
   "metadata": {
    "id": "pRix3NFQ0RMJ"
   },
   "outputs": [],
   "source": [
    "q2 = IRQ2(\"government\")"
   ]
  },
  {
   "cell_type": "code",
   "execution_count": null,
   "metadata": {
    "id": "WXaj7I2X0bSU"
   },
   "outputs": [],
   "source": [
    "q2.py_trec_eval()"
   ]
  },
  {
   "cell_type": "code",
   "execution_count": null,
   "metadata": {
    "id": "x2w4SC820eGi"
   },
   "outputs": [],
   "source": [
    "q2.print_rel_name('1')"
   ]
  },
  {
   "cell_type": "markdown",
   "metadata": {
    "id": "Bs-qgnks39Wz"
   },
   "source": [
    "### Q2 (b): Provide answer to Q2 (b) here [markdown cell]"
   ]
  },
  {
   "cell_type": "markdown",
   "metadata": {
    "id": "0TUIW6hV39Wz"
   },
   "source": [
    "### Q2 (c): Provide answer to Q2(c) here [markdown cell]"
   ]
  },
  {
   "cell_type": "markdown",
   "metadata": {
    "id": "N_e8DZ3K39W0"
   },
   "source": [
    "## Question 3"
   ]
  },
  {
   "cell_type": "markdown",
   "metadata": {
    "id": "yD0gzOt239W1"
   },
   "source": [
    "### Q3 (a): Provide answer to Q3 (a) here [markdown cell]"
   ]
  },
  {
   "cell_type": "markdown",
   "metadata": {
    "id": "tzwPVMgc39W1"
   },
   "source": [
    "### Q3 (b): Write your code below"
   ]
  },
  {
   "cell_type": "markdown",
   "metadata": {
    "id": "Bs-u39j5pwcl"
   },
   "source": [
    "**1. The auto-grader will extract and use the following variables, DON'T change the their names:**\n",
    "\n",
    "      self.topic_file  \n",
    "      self.qrels_file  \n",
    "      self.document_dir   \n",
    "      self.file_list  \n",
    "      self.index_sys  \n",
    "      self.query_parser  \n",
    "      self.searcher   \n",
    "\n",
    "\n",
    "\n",
    "**2. DON'T change the names of the already defined funtions**  \n",
    "**3. DON'T change the py_trec_eval function**  \n",
    "**4. DON'T change the class names including CustomFilter, IRSystem, IRQ2, IRQ3, IRQ4**  \n",
    "**5. DON'T change the CustomFilter class and DON'T create any new custom filter class that is used to define Whoosh schema**"
   ]
  },
  {
   "cell_type": "code",
   "execution_count": null,
   "metadata": {
    "id": "FMF3X7SFyMh3"
   },
   "outputs": [],
   "source": [
    "class IRQ3(IRSystem):\n",
    "    def create_index(self):\n",
    "        \"\"\"\n",
    "        INPUT:\n",
    "            None\n",
    "        OUTPUT:\n",
    "            None\n",
    "        \n",
    "        NOTE: Please update self.index_sys which should have type whoosh.index.FileIndex\n",
    "        \"\"\"\n",
    "        # DON't change the name of 'index_sys'\n",
    "        self.index_sys = None\n",
    "\n",
    "    def add_files(self):\n",
    "        \"\"\"\n",
    "        INPUT:\n",
    "            None\n",
    "        OUTPUT:\n",
    "            None\n",
    "        \n",
    "        NOTE: Add buffer to self.index_sys\n",
    "        \"\"\"\n",
    "        pass\n",
    "\n",
    "    def create_parser_searcher(self):\n",
    "        \"\"\"\n",
    "        INPUT:\n",
    "            None\n",
    "        OUTPUT:\n",
    "            None\n",
    "        \n",
    "        NOTE: Please update self.query_parser and self.searcher which should have type whoosh.qparser.default.QueryParser and whoosh.searching.Searcher respectively \n",
    "        \"\"\"\n",
    "         # DON't change the names of 'query_parser' and 'searcher'\n",
    "        self.query_parser = None\n",
    "        self.searcher = None\n",
    "\n",
    "    def perform_search(self, topic_phrase):\n",
    "        \"\"\"\n",
    "        INPUT:\n",
    "            topic_phrase: string\n",
    "        OUTPUT:\n",
    "            topicResults: whoosh.searching.Results\n",
    "        \n",
    "        NOTE: Utilize self.query_parser and self.searcher to calculate the result for topic_phrase\n",
    "        \"\"\"\n",
    "        topicResults = None\n",
    "        return topicResults"
   ]
  },
  {
   "cell_type": "code",
   "execution_count": null,
   "metadata": {
    "id": "zyi7VnKhD0Dj"
   },
   "outputs": [],
   "source": [
    "q3 = IRQ3(\"government\")"
   ]
  },
  {
   "cell_type": "code",
   "execution_count": null,
   "metadata": {
    "id": "8CvSrdxQD2HK"
   },
   "outputs": [],
   "source": [
    "q3.py_trec_eval()"
   ]
  },
  {
   "cell_type": "code",
   "execution_count": null,
   "metadata": {
    "id": "1qCZA6PID3kq"
   },
   "outputs": [],
   "source": [
    "q3.print_rel_name('1')"
   ]
  },
  {
   "cell_type": "markdown",
   "metadata": {
    "id": "mD4nxtDK39W7"
   },
   "source": [
    "### Q3 (c): Provide answer to Q3 (c) here [markdown cell]"
   ]
  },
  {
   "cell_type": "markdown",
   "metadata": {
    "id": "cntL2Jdt39W8"
   },
   "source": [
    "### Q3 (d): Provide answer to Q3 (d) here [markdown cell]"
   ]
  },
  {
   "cell_type": "markdown",
   "metadata": {
    "id": "iKhLuIOw39W8"
   },
   "source": [
    "### Q3 (e): Provide answer to Q3 (e) here [markdown cell]"
   ]
  },
  {
   "cell_type": "markdown",
   "metadata": {
    "id": "Hl4AUf0n39W9"
   },
   "source": [
    "### Q3 (f): Provide answer to Q3 (f) here [markdown cell]"
   ]
  },
  {
   "cell_type": "markdown",
   "metadata": {
    "id": "9fte3WSCSLjb"
   },
   "source": [
    "## Question 4\n"
   ]
  },
  {
   "cell_type": "markdown",
   "metadata": {
    "id": "iKLqAORHSgsR"
   },
   "source": [
    "### Q4 (a): Provide answer to Q4 (a) here [markdown cell]"
   ]
  },
  {
   "cell_type": "markdown",
   "metadata": {
    "id": "aKuxmHduTku7"
   },
   "source": [
    "### Q4 (b): Write your code below"
   ]
  },
  {
   "cell_type": "markdown",
   "metadata": {
    "id": "Qtk3yuMqTkBc"
   },
   "source": [
    "**1. The auto-grader will extract and use the following variables, DON'T change the their names:**\n",
    "\n",
    "      self.topic_file  \n",
    "      self.qrels_file  \n",
    "      self.document_dir   \n",
    "      self.file_list  \n",
    "      self.index_sys  \n",
    "      self.query_parser  \n",
    "      self.searcher   \n",
    "\n",
    "\n",
    "\n",
    "**2. DON'T change the names of the already defined funtions**  \n",
    "**3. DON'T change the py_trec_eval function**  \n",
    "**4. DON'T change the class names including CustomFilter, IRSystem, IRQ2, IRQ3, IRQ4**  \n",
    "**5. DON'T change the CustomFilter class and DON'T create any new custom filter class that is used to define Whoosh schema**"
   ]
  },
  {
   "cell_type": "code",
   "execution_count": null,
   "metadata": {
    "id": "LMpuNNTySW4R"
   },
   "outputs": [],
   "source": [
    "class IRQ4(IRSystem):\n",
    "    def create_index(self):\n",
    "        \"\"\"\n",
    "        INPUT:\n",
    "            None\n",
    "        OUTPUT:\n",
    "            None\n",
    "        \n",
    "        NOTE: Please update self.index_sys which should have type whoosh.index.FileIndex\n",
    "        \"\"\"\n",
    "        # DON't change the name of 'index_sys'\n",
    "        self.index_sys = None\n",
    "\n",
    "    def add_files(self):\n",
    "        \"\"\"\n",
    "        INPUT:\n",
    "            None\n",
    "        OUTPUT:\n",
    "            None\n",
    "        \n",
    "        NOTE: Add buffer to self.index_sys\n",
    "        \"\"\"\n",
    "        pass\n",
    "\n",
    "    def create_parser_searcher(self):\n",
    "        \"\"\"\n",
    "        INPUT:\n",
    "            None\n",
    "        OUTPUT:\n",
    "            None\n",
    "        \n",
    "        NOTE: Please update self.query_parser and self.searcher which should have type whoosh.qparser.default.QueryParser and whoosh.searching.Searcher respectively \n",
    "        \"\"\"\n",
    "         # DON't change the names of 'query_parser' and 'searcher'\n",
    "        self.query_parser = None\n",
    "        self.searcher = None\n",
    "\n",
    "    def perform_search(self, topic_phrase):\n",
    "        \"\"\"\n",
    "        INPUT:\n",
    "            topic_phrase: string\n",
    "        OUTPUT:\n",
    "            topicResults: whoosh.searching.Results\n",
    "        \n",
    "        NOTE: Utilize self.query_parser and self.searcher to calculate the result for topic_phrase\n",
    "        \"\"\"\n",
    "        topicResults = None\n",
    "        return topicResults"
   ]
  },
  {
   "cell_type": "code",
   "execution_count": null,
   "metadata": {
    "id": "4dLc8OHHTtPL"
   },
   "outputs": [],
   "source": [
    "q4 = IRQ4(\"government\")"
   ]
  },
  {
   "cell_type": "code",
   "execution_count": null,
   "metadata": {
    "id": "gpc4xPVTTyco"
   },
   "outputs": [],
   "source": [
    "q4.py_trec_eval()"
   ]
  },
  {
   "cell_type": "code",
   "execution_count": null,
   "metadata": {
    "id": "reUQTLCtT0eN"
   },
   "outputs": [],
   "source": [
    "q4.print_rel_name('1')"
   ]
  },
  {
   "cell_type": "markdown",
   "metadata": {
    "id": "SmiT_KoaS2WI"
   },
   "source": [
    "### Q4 (b): Provide answer to Q4 (b) here [markdown cell]"
   ]
  },
  {
   "cell_type": "markdown",
   "metadata": {
    "id": "4y-GiUj6S5de"
   },
   "source": [
    "### Q4 (d): Provide answer to Q4 (c) here [markdown cell]"
   ]
  },
  {
   "cell_type": "markdown",
   "metadata": {
    "id": "SxIckwJc39XL"
   },
   "source": [
    "## Validation"
   ]
  },
  {
   "cell_type": "markdown",
   "metadata": {
    "id": "0q6M7TdfUKGH"
   },
   "source": [
    "#### Run the following cells to make sure your code returns the correct value types"
   ]
  },
  {
   "cell_type": "code",
   "execution_count": null,
   "metadata": {
    "id": "jniUiH1b39XO"
   },
   "outputs": [],
   "source": [
    "from whoosh.index import FileIndex\n",
    "from whoosh.qparser import QueryParser\n",
    "from whoosh.searching import Searcher\n",
    "import os.path"
   ]
  },
  {
   "cell_type": "markdown",
   "metadata": {
    "id": "X3YfPSiI39XR"
   },
   "source": [
    "### Q2 Validation"
   ]
  },
  {
   "cell_type": "code",
   "execution_count": null,
   "metadata": {
    "id": "3GCl6C7n39XS"
   },
   "outputs": [],
   "source": [
    "assert(isinstance(q2.index_sys, FileIndex)), \"Index Type\"\n",
    "assert(isinstance(q2.query_parser, QueryParser)), \"Query Parser Type\"\n",
    "assert(isinstance(q2.searcher, Searcher)), \"Searcher Type\"\n",
    "print(\"Q2 Types Validated\")"
   ]
  },
  {
   "cell_type": "markdown",
   "metadata": {
    "id": "t9aZQ-PY39XW"
   },
   "source": [
    "### Q3 Validation"
   ]
  },
  {
   "cell_type": "code",
   "execution_count": null,
   "metadata": {
    "id": "rEKvL0g-39XX"
   },
   "outputs": [],
   "source": [
    "assert(isinstance(q3.index_sys, FileIndex)), \"Index Type\"\n",
    "assert(isinstance(q3.query_parser, QueryParser)), \"Query Parser Type\"\n",
    "assert(isinstance(q3.searcher, Searcher)), \"Searcher Type\"\n",
    "print(\"Q3 Types Validated\")"
   ]
  },
  {
   "cell_type": "markdown",
   "metadata": {
    "id": "KO5zjmDt39Xd"
   },
   "source": [
    "### Q4 Validation"
   ]
  },
  {
   "cell_type": "code",
   "execution_count": null,
   "metadata": {
    "id": "ddGGFQMP39Xd"
   },
   "outputs": [],
   "source": [
    "assert(isinstance(q4.index_sys, FileIndex)), \"Index Type\"\n",
    "assert(isinstance(q4.query_parser, QueryParser)), \"Query Parser Type\"\n",
    "assert(isinstance(q4.searcher, Searcher)), \"Searcher Type\"\n",
    "print(\"Q4 Types Validated\")"
   ]
  }
 ],
 "metadata": {
  "colab": {
   "collapsed_sections": [],
   "name": "ir_assignment.ipynb",
   "provenance": [],
   "toc_visible": true
  },
  "kernelspec": {
   "display_name": "Python 3",
   "language": "python",
   "name": "python3"
  },
  "language_info": {
   "codemirror_mode": {
    "name": "ipython",
    "version": 3
   },
   "file_extension": ".py",
   "mimetype": "text/x-python",
   "name": "python",
   "nbconvert_exporter": "python",
   "pygments_lexer": "ipython3",
   "version": "3.8.8"
  }
 },
 "nbformat": 4,
 "nbformat_minor": 1
}
