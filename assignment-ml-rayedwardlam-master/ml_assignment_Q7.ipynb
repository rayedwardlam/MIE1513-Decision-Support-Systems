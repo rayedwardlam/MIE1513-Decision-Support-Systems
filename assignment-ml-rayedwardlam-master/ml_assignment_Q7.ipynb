{
 "cells": [
  {
   "cell_type": "code",
   "execution_count": null,
   "metadata": {
    "id": "2-ZYhG2zn3qf"
   },
   "outputs": [],
   "source": [
    "!pip install wget"
   ]
  },
  {
   "cell_type": "code",
   "execution_count": null,
   "metadata": {
    "id": "IcqEP3fGkec9",
    "pycharm": {
     "name": "#%%\n"
    }
   },
   "outputs": [],
   "source": [
    "import numpy as np\n",
    "import pandas as pd\n",
    "# Please add other necessary imports here"
   ]
  },
  {
   "cell_type": "code",
   "execution_count": null,
   "metadata": {
    "id": "Nq7O9NKnnorw"
   },
   "outputs": [],
   "source": [
    "import wget\n",
    "from pathlib import Path\n",
    "filename = wget.download(\"https://github.com/MIE1513HS-2022/course-datasets/raw/main/20_newsgroups.zip\")\n",
    "!unzip 20_newsgroups.zip\n",
    "DATA_DIR = \"20_newsgroups\"\n",
    "all_files = [pth for pth in Path(DATA_DIR).glob(\"**/*\") if pth.is_file() and not pth.name.startswith(\".\")]"
   ]
  },
  {
   "cell_type": "markdown",
   "metadata": {
    "id": "432hrnVOkedA"
   },
   "source": [
    "# Q7"
   ]
  },
  {
   "cell_type": "markdown",
   "metadata": {
    "id": "PSihMe6ekedB"
   },
   "source": [
    "## Q7(a)"
   ]
  },
  {
   "cell_type": "markdown",
   "metadata": {
    "id": "HwX8PxjCkedD"
   },
   "source": [
    "use the following code cell to implement your feature encoding"
   ]
  },
  {
   "cell_type": "code",
   "execution_count": null,
   "metadata": {
    "id": "aknEVgx0kedD"
   },
   "outputs": [],
   "source": [
    "def data_q7(file_list, num_words = 1000):\n",
    "    X = None\n",
    "    y = None\n",
    "\n",
    "    #Please remember to put index for your dataframe as the file name\n",
    "    #For example: pd.DataFrame(data, index=[str(f) for f in file_list],columns=[])\n",
    "\n",
    "    # validate return types\n",
    "    assert isinstance(X, pd.DataFrame) and isinstance(y, list), \"return types\"\n",
    "\n",
    "    return X, y"
   ]
  },
  {
   "cell_type": "markdown",
   "metadata": {
    "id": "FNRE4K4gkedE"
   },
   "source": [
    "## Q7(b)"
   ]
  },
  {
   "cell_type": "markdown",
   "metadata": {
    "id": "AzXn77E0kedE"
   },
   "source": [
    "Use the following code cell to implement your model"
   ]
  },
  {
   "cell_type": "code",
   "execution_count": null,
   "metadata": {
    "id": "gY3zH_yfkedE"
   },
   "outputs": [],
   "source": [
    "def build_model_q7():\n",
    "    #write your code here, define your model\n",
    "    MODELQ7=None\n",
    "    return MODELQ7"
   ]
  },
  {
   "cell_type": "markdown",
   "metadata": {
    "id": "MWKu6i31kedF"
   },
   "source": [
    "Code for evaluating p at k "
   ]
  },
  {
   "cell_type": "code",
   "execution_count": null,
   "metadata": {
    "id": "s4o8CXDJkedF"
   },
   "outputs": [],
   "source": [
    "def calculate_average_precision_at_k(MODELQ7, all_files, training_files, testing_files,k=None):\n",
    "  \n",
    "    training_files = [str(f) for f in open(training_files,mode='r').read().splitlines()]\n",
    "    testing_files = [str(f) for f in open(testing_files,mode='r').read().splitlines()]\n",
    "    if k is None:\n",
    "        k=len(testing_files)\n",
    "\n",
    "    X, y = data_q7(all_files) \n",
    "    X['gt'] = y\n",
    "    training = X.loc[training_files]\n",
    "    X_train = training.loc[:,training.columns!='gt']\n",
    "    y_train = training['gt'].values\n",
    "\n",
    "    testing = X.loc[testing_files]\n",
    "    X_test = testing.loc[:,testing.columns!='gt']\n",
    "    y_test = testing['gt'].values\n",
    "\n",
    "    MODELQ7.fit(X_train,y_train)\n",
    "    y_pred = MODELQ7.predict(X_test)\n",
    "    y_pred_prob = MODELQ7.predict_proba(X_test)\n",
    "    confidences = np.max(y_pred_prob,axis=1)\n",
    "\n",
    "    p_at_k = []\n",
    "    rel_at_k = []\n",
    "    confidence_order = np.argsort(confidences)\n",
    "    for i in range(1,k+1):\n",
    "        top_confidence = confidence_order[-i:]\n",
    "        pred_top_i = y_pred[top_confidence]\n",
    "        gt_top_i = np.array(y_test)[top_confidence]\n",
    "        p_at_i = np.sum(pred_top_i == gt_top_i)/i\n",
    "        rel_at_i = (pred_top_i[0] == gt_top_i[0])\n",
    "        p_at_k.append(p_at_i)\n",
    "        rel_at_k.append(rel_at_i)\n",
    "    print('average precision at {} is {}'.format(k,np.dot(p_at_k,rel_at_k)/k))\n",
    "    return np.dot(p_at_k,rel_at_k)/k"
   ]
  },
  {
   "cell_type": "code",
   "execution_count": null,
   "metadata": {
    "id": "QmicMF0ykedG"
   },
   "outputs": [],
   "source": [
    "# Example usage:\n",
    "######This line of code must be able to run on Google Colab in under 15 minutes.#####\n",
    "######Code that runs longer than 15 minutes on the autograder will receive 0 marks for Q7#####\n",
    "m = calculate_average_precision_at_k(build_model_q7(), all_files, 'training_files_Q7.txt', 'testing_files_Q7.txt')"
   ]
  },
  {
   "cell_type": "markdown",
   "metadata": {
    "id": "J8y4vOO5kedH"
   },
   "source": [
    "# Q7(c)"
   ]
  },
  {
   "cell_type": "markdown",
   "metadata": {
    "id": "jXORTLuikedH"
   },
   "source": [
    "Please write your answers here"
   ]
  }
 ],
 "metadata": {
  "colab": {
   "name": "ml_assignment_Q7.ipynb",
   "provenance": []
  },
  "kernelspec": {
   "display_name": "Python 3 (ipykernel)",
   "language": "python",
   "name": "python3"
  },
  "language_info": {
   "codemirror_mode": {
    "name": "ipython",
    "version": 3
   },
   "file_extension": ".py",
   "mimetype": "text/x-python",
   "name": "python",
   "nbconvert_exporter": "python",
   "pygments_lexer": "ipython3",
   "version": "3.8.10"
  }
 },
 "nbformat": 4,
 "nbformat_minor": 1
}
